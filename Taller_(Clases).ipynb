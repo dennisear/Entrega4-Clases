{
 "cells": [
  {
   "cell_type": "code",
   "execution_count": null,
   "id": "7502d072",
   "metadata": {},
   "outputs": [],
   "source": [
    "import random as r\n",
    "\n",
    "class perrito():\n",
    "    def __init__(self, raza, tamaño, edad, sexo, nombre):\n",
    "        self.raza= raza\n",
    "        self.tamaño= tamaño\n",
    "        self.edad= edad\n",
    "        self.sexo= sexo\n",
    "        self.nombre= nombre\n",
    "    \n",
    "    def presentar(self):\n",
    "        print(f\"\"\"Guau, Guau, mi nombre es {self.nombre}, Guau, Guau soy de la raza {self.raza}, \n",
    "Guau, Guau tengo {self.edad} perrunos, Guau, Guau mi sexo es {self.sexo} \n",
    "y soy de tamaño {self.tamaño}.Guau, Guau... Chaiii\"\"\")\n",
    "    \n",
    "    def correr(self):\n",
    "        print(f\"{self.nombre} está corriendo\")\n",
    "        \n",
    "    def dormir(self):\n",
    "        print(f\"{self.nombre} está durmiendo en su camita zzz\")\n",
    "        \n",
    "    def comer(self,comida):\n",
    "        print(f\"{self.nombre} está comiendo su comida favorita que es: {comida}\")\n",
    "        \n",
    "    def saltar(self,saltos):\n",
    "        print(f\"{self.nombre} está haciendo {saltos} saltos\")\n",
    "        \n",
    "    def interaccion(self,perrito2):\n",
    "        decision= r.choice([\"ser amigos\",\"pelear\"])\n",
    "        print(f\"Los perritos decidieron {decision}\")\n",
    "        if decision==\"ser amigos\":\n",
    "            print(f\"{self.nombre} y {perrito2.nombre} son bff\")\n",
    "        else:\n",
    "            if self.tamaño==\"grande\" and perrito2.tamaño==\"pequeño\":\n",
    "                print(f\"{self.nombre}, gana la pelea, ya que es más grande que {perrito2.nombre}, por lo tanto {perrito2.nombre} queda triste ):\")\n",
    "            elif self.tamaño==\"pequeño\" and perrito2.tamaño==\"grande\":\n",
    "                print(f\"{perrito2.nombre}, gana la pelea, ya que es más grande que {self.nombre}, por lo tanto {self.nombre} queda triste ):\")\n",
    "            else:\n",
    "                print(f\"No hay show, no hay espectáculo, {self.nombre} y {perrito2.nombre} son bff\")\n",
    "        \n"
   ]
  },
  {
   "cell_type": "code",
   "execution_count": null,
   "id": "c8d8dcbc",
   "metadata": {},
   "outputs": [],
   "source": [
    "perrito1= perrito(\"chihuahua\", \"pequeño\",\"3 años\",\"macho\",\"Simba\")\n",
    "perrito2= perrito(\"Pastor alemán\", \"grande\",\"9 años\",\"hembra\",\"Conita\")"
   ]
  },
  {
   "cell_type": "code",
   "execution_count": null,
   "id": "799ad7e0",
   "metadata": {},
   "outputs": [],
   "source": [
    "perrito1.presentar()"
   ]
  },
  {
   "cell_type": "code",
   "execution_count": null,
   "id": "ded03ebf",
   "metadata": {},
   "outputs": [],
   "source": [
    "perrito2.presentar()"
   ]
  },
  {
   "cell_type": "code",
   "execution_count": null,
   "id": "db64380d",
   "metadata": {},
   "outputs": [],
   "source": [
    "perrito1.nombre"
   ]
  },
  {
   "cell_type": "code",
   "execution_count": null,
   "id": "983ae949",
   "metadata": {},
   "outputs": [],
   "source": [
    "perrito2.nombre"
   ]
  },
  {
   "cell_type": "code",
   "execution_count": null,
   "id": "2f6c84f3",
   "metadata": {},
   "outputs": [],
   "source": [
    "perrito1.correr()"
   ]
  },
  {
   "cell_type": "code",
   "execution_count": null,
   "id": "65f99d42",
   "metadata": {},
   "outputs": [],
   "source": [
    "perrito2.correr()"
   ]
  },
  {
   "cell_type": "code",
   "execution_count": null,
   "id": "e1ff9e81",
   "metadata": {},
   "outputs": [],
   "source": [
    "perrito1.dormir()"
   ]
  },
  {
   "cell_type": "code",
   "execution_count": null,
   "id": "ec4a63d4",
   "metadata": {},
   "outputs": [],
   "source": [
    "perrito2.dormir()"
   ]
  },
  {
   "cell_type": "code",
   "execution_count": null,
   "id": "00c3e868",
   "metadata": {},
   "outputs": [],
   "source": [
    "perrito1.comer(\"galletas\")"
   ]
  },
  {
   "cell_type": "code",
   "execution_count": null,
   "id": "8a328727",
   "metadata": {},
   "outputs": [],
   "source": [
    "perrito2.comer(\"sushi\")"
   ]
  },
  {
   "cell_type": "code",
   "execution_count": null,
   "id": "d7595804",
   "metadata": {},
   "outputs": [],
   "source": [
    "perrito1.saltar(\"5\")"
   ]
  },
  {
   "cell_type": "code",
   "execution_count": null,
   "id": "6905d149",
   "metadata": {},
   "outputs": [],
   "source": [
    "perrito2.saltar(\"10\")"
   ]
  },
  {
   "cell_type": "code",
   "execution_count": null,
   "id": "ffa64379",
   "metadata": {},
   "outputs": [],
   "source": [
    "perrito1.interaccion(perrito2)"
   ]
  },
  {
   "cell_type": "code",
   "execution_count": null,
   "id": "0efd0394",
   "metadata": {},
   "outputs": [],
   "source": [
    "perrito1.interaccion(perrito2)"
   ]
  },
  {
   "cell_type": "code",
   "execution_count": null,
   "id": "9adc0b16",
   "metadata": {},
   "outputs": [],
   "source": []
  }
 ],
 "metadata": {
  "kernelspec": {
   "display_name": "Python 3 (ipykernel)",
   "language": "python",
   "name": "python3"
  },
  "language_info": {
   "codemirror_mode": {
    "name": "ipython",
    "version": 3
   },
   "file_extension": ".py",
   "mimetype": "text/x-python",
   "name": "python",
   "nbconvert_exporter": "python",
   "pygments_lexer": "ipython3",
   "version": "3.9.7"
  }
 },
 "nbformat": 4,
 "nbformat_minor": 5
}
